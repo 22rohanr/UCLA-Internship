{
 "cells": [
  {
   "cell_type": "markdown",
   "id": "funky-soccer",
   "metadata": {},
   "source": [
    "## Imports ##"
   ]
  },
  {
   "cell_type": "code",
   "execution_count": 198,
   "id": "mental-partition",
   "metadata": {},
   "outputs": [],
   "source": [
    "import time\n",
    "import pandas as pd\n",
    "import numpy as np\n",
    "from sklearn.ensemble import RandomForestClassifier\n",
    "from sklearn.model_selection import train_test_split, KFold, cross_val_score, cross_validate, GridSearchCV\n",
    "from sklearn.metrics import confusion_matrix, roc_curve, roc_auc_score, auc\n",
    "import seaborn as sns\n",
    "import matplotlib.pyplot as plt\n",
    "%matplotlib inline\n",
    "sns.set_style(\"whitegrid\")"
   ]
  },
  {
   "cell_type": "markdown",
   "id": "comprehensive-puzzle",
   "metadata": {},
   "source": [
    "## Exploring the Data ##"
   ]
  },
  {
   "cell_type": "code",
   "execution_count": 29,
   "id": "bigger-theme",
   "metadata": {},
   "outputs": [
    {
     "name": "stdout",
     "output_type": "stream",
     "text": [
      "List of Columns:\n",
      "Index(['sample_name', 'acne_medication', 'acne_medication_otc',\n",
      "       'alcohol_consumption', 'alcohol_types_beercider',\n",
      "       'alcohol_types_red_wine', 'alcohol_types_sour_beers',\n",
      "       'alcohol_types_spiritshard_alcohol', 'alcohol_types_white_wine',\n",
      "       'allergic_to_i_have_no_food_allergies_that_i_know_of',\n",
      "       ...\n",
      "       'country_residence', 'subset_healthy', 'survey_id', 'age_years',\n",
      "       'age_corrected', 'bmi', 'bmi_corrected', 'weight_kg', 'longitude',\n",
      "       'latitude'],\n",
      "      dtype='object', length=149)\n",
      "\n",
      "\n",
      "\n",
      "Diabetes Column:\n",
      "0        4\n",
      "1        0\n",
      "2        0\n",
      "3        0\n",
      "4        0\n",
      "        ..\n",
      "10361    0\n",
      "10362    0\n",
      "10363    0\n",
      "10364    0\n",
      "10365    0\n",
      "Name: diabetes, Length: 10366, dtype: int64\n",
      "\n",
      "\n",
      "\n",
      "Patient 1's Data:\n",
      "sample_name                  ERR1073439\n",
      "acne_medication                       0\n",
      "acne_medication_otc                   0\n",
      "alcohol_consumption                   1\n",
      "alcohol_types_beercider               0\n",
      "                               ...     \n",
      "bmi                               35.92\n",
      "bmi_corrected              Not provided\n",
      "weight_kg                         110.0\n",
      "longitude                         -71.5\n",
      "latitude                           42.6\n",
      "Name: 0, Length: 149, dtype: object\n"
     ]
    }
   ],
   "source": [
    "# Creating a data frame (10366 patients x 149 elements)\n",
    "df = pd.read_csv('AGP_Metadata.csv', delimiter = ',')\n",
    "\n",
    "# Creating a list of the columns\n",
    "print('List of Columns:')\n",
    "print(df.columns)\n",
    "print('\\n\\n')\n",
    "\n",
    "# Read specific columns\n",
    "print('Diabetes Column:')\n",
    "print(df['diabetes'])\n",
    "print('\\n\\n')\n",
    "\n",
    "# # Read a specific row\n",
    "print('Patient 1\\'s Data:')\n",
    "print(df.iloc[0])"
   ]
  },
  {
   "cell_type": "code",
   "execution_count": 50,
   "id": "caring-greene",
   "metadata": {},
   "outputs": [
    {
     "name": "stdout",
     "output_type": "stream",
     "text": [
      "Diabetes Frequencies and Values:\n",
      "0    9789\n",
      "1     200\n",
      "Name: diabetes, dtype: int64\n",
      "\n",
      "\n",
      "\n",
      "Diabetes Statistics:\n",
      "count    9989.000000\n",
      "mean        0.020022\n",
      "std         0.140083\n",
      "min         0.000000\n",
      "25%         0.000000\n",
      "50%         0.000000\n",
      "75%         0.000000\n",
      "max         1.000000\n",
      "Name: diabetes, dtype: float64\n"
     ]
    }
   ],
   "source": [
    "# Finding the possible values and frequencies of diabetes\n",
    "print('Diabetes Frequencies and Values:')\n",
    "print(df['diabetes'].value_counts())\n",
    "print('\\n\\n')\n",
    "\n",
    "# Describing the diabetes column's statistics\n",
    "print('Diabetes Statistics:')\n",
    "print(df['diabetes'].describe())"
   ]
  },
  {
   "cell_type": "markdown",
   "id": "tired-truth",
   "metadata": {},
   "source": [
    "## Cleaning the Data ##"
   ]
  },
  {
   "cell_type": "code",
   "execution_count": 129,
   "id": "another-omaha",
   "metadata": {},
   "outputs": [],
   "source": [
    "# # Converting the numerical values to 'Case' or 'Control'\n",
    "# named_diabetes_df = df\n",
    "# named_diabetes_df['diabetes'] = named_diabetes_df['diabetes'].replace([1, 2, 3, 4], 'Case')\n",
    "# named_diabetes_df['diabetes'] = named_diabetes_df['diabetes'].replace(0, 'Control')\n",
    "\n",
    "# Creating a smaller data frame from the original one with the columns of interest\n",
    "cleaned_df = cleaned_df[['sex','age_corrected','alcohol_frequency','meat_eggs_frequency',\n",
    "           'specialized_diet_exclude_dairy','vegetable_frequency','whole_grain_frequency',\n",
    "           'salted_snacks_frequency','bmi','diabetes']]\n",
    "\n",
    "# Cleaning the diabetes column\n",
    "cleaned_df = cleaned_df[((cleaned_df['diabetes'].isin([0, 1])).apply(pd.to_numeric))]\n",
    "\n",
    "# Cleaning the bmi column\n",
    "cleaned_df = cleaned_df[(cleaned_df['bmi'] != 'Not provided') & (cleaned_df['bmi'] != 'Unspecified')]\n",
    "cleaned_df['bmi'] = cleaned_df['bmi'].apply(pd.to_numeric)\n",
    "cleaned_df = cleaned_df[(cleaned_df['bmi'] >= 7.5) & (cleaned_df['bmi'] <= 204.0)]\n",
    "\n",
    "# Cleaning the sex column\n",
    "cleaned_df = cleaned_df[(cleaned_df['sex'] != 'Not provided') & (cleaned_df['sex'] != 'unspecified') & (cleaned_df['sex'] != 'other')]\n",
    "cleaned_df['sex'] = cleaned_df['sex'].replace('male', 0)\n",
    "cleaned_df['sex'] = cleaned_df['sex'].replace('female', 1)\n",
    "cleaned_df = cleaned_df[(cleaned_df['age_corrected'] != 'Not provided') & (cleaned_df['age_corrected'] != 'Unspecified') & (cleaned_df['age_corrected'] != 'other')]\n",
    "\n",
    "# Converting strings to ints\n",
    "cleaned_df = cleaned_df.apply(pd.to_numeric)"
   ]
  },
  {
   "cell_type": "code",
   "execution_count": 128,
   "id": "german-inventory",
   "metadata": {},
   "outputs": [],
   "source": [
    "# Lists of cases and controls\n",
    "case_patients = []\n",
    "control_patients = []\n",
    "for i in range(len(cleaned_df)):\n",
    "    if cleaned_df.iloc[i]['diabetes'] == 1:\n",
    "        case_patients.append(i)\n",
    "    else:\n",
    "        control_patients.append(i)"
   ]
  },
  {
   "cell_type": "code",
   "execution_count": 200,
   "id": "unlikely-liver",
   "metadata": {},
   "outputs": [
    {
     "data": {
      "image/png": "[encoded data removed]",
      "text/plain": [
       "<Figure size 504x504 with 1 Axes>"
      ]
     },
     "metadata": {},
     "output_type": "display_data"
    }
   ],
   "source": [
    "# Boxplot function\n",
    "\n",
    "def boxplot(variable):\n",
    "    plt.figure(figsize=(7,7,))\n",
    "    ax = sns.boxplot(x = 'diabetes', y = variable, data = cleaned_df, palette = \"Set3\", saturation = 1, linewidth = 1.8)\n",
    "    plt.show()\n",
    "boxplot('age_corrected')"
   ]
  },
  {
   "cell_type": "code",
   "execution_count": null,
   "id": "sweet-pressing",
   "metadata": {},
   "outputs": [],
   "source": []
  },
  {
   "cell_type": "code",
   "execution_count": 41,
   "id": "czech-quantity",
   "metadata": {},
   "outputs": [
    {
     "data": {
      "text/plain": [
       "0    9789\n",
       "1     200\n",
       "Name: diabetes, dtype: int64"
      ]
     },
     "execution_count": 41,
     "metadata": {},
     "output_type": "execute_result"
    }
   ],
   "source": []
  },
  {
   "cell_type": "code",
   "execution_count": 46,
   "id": "intimate-driving",
   "metadata": {},
   "outputs": [
    {
     "data": {
      "text/plain": [
       "I tend to have normal formed stool - Type 3 and 4                          4512\n",
       "Not provided                                                               2163\n",
       "I tend to have normal formed stool                                         1096\n",
       "I tend to have diarrhea (watery stool) - Type 5, 6 and 7                    895\n",
       "I tend to be constipated (have difficulty passing stool) - Type 1 and 2     593\n",
       "I tend to be constipated (have difficulty passing stool)                    252\n",
       "I tend to have diarrhea (watery stool)                                      231\n",
       "I don't know, I do not have a point of reference                            200\n",
       "Unspecified                                                                  47\n",
       "Name: bowel_movement_quality, dtype: int64"
      ]
     },
     "execution_count": 46,
     "metadata": {},
     "output_type": "execute_result"
    }
   ],
   "source": []
  },
  {
   "cell_type": "code",
   "execution_count": 54,
   "id": "complicated-diana",
   "metadata": {},
   "outputs": [
    {
     "data": {
      "text/plain": [
       "Not provided    133\n",
       "22.31            45\n",
       "Unspecified      44\n",
       "21.63            41\n",
       "21.46            38\n",
       "               ... \n",
       "29.42             1\n",
       "36.38             1\n",
       "30.38             1\n",
       "30.37             1\n",
       "22.85             1\n",
       "Name: bmi, Length: 2202, dtype: int64"
      ]
     },
     "execution_count": 54,
     "metadata": {},
     "output_type": "execute_result"
    }
   ],
   "source": [
    "df.bmi.value_counts()"
   ]
  },
  {
   "cell_type": "code",
   "execution_count": null,
   "id": "russian-samuel",
   "metadata": {},
   "outputs": [],
   "source": []
  }
 ],
 "metadata": {
  "kernelspec": {
   "display_name": "Python 3",
   "language": "python",
   "name": "python3"
  },
  "language_info": {
   "codemirror_mode": {
    "name": "ipython",
    "version": 3
   },
   "file_extension": ".py",
   "mimetype": "text/x-python",
   "name": "python",
   "nbconvert_exporter": "python",
   "pygments_lexer": "ipython3",
   "version": "3.9.1"
  }
 },
 "nbformat": 4,
 "nbformat_minor": 5
}
